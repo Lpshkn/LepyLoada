{
 "cells": [
  {
   "cell_type": "markdown",
   "metadata": {},
   "source": [
    "Dataset will be loaded from https://rustih.ru/stihi-russkih-poetov-klassikov/"
   ]
  },
  {
   "cell_type": "code",
   "execution_count": 70,
   "metadata": {},
   "outputs": [],
   "source": [
    "from bs4 import BeautifulSoup\n",
    "import pandas as pd\n",
    "import re\n",
    "import requests"
   ]
  },
  {
   "cell_type": "code",
   "execution_count": 2,
   "metadata": {},
   "outputs": [],
   "source": [
    "MAIN_URL = 'https://rustih.ru/stihi-russkih-poetov-klassikov/'"
   ]
  },
  {
   "cell_type": "code",
   "execution_count": 3,
   "metadata": {},
   "outputs": [],
   "source": [
    "res = requests.get(MAIN_URL).text\n",
    "soup = BeautifulSoup(res)"
   ]
  },
  {
   "cell_type": "markdown",
   "metadata": {},
   "source": [
    "Get a list of authors and refers of their page"
   ]
  },
  {
   "cell_type": "code",
   "execution_count": 4,
   "metadata": {},
   "outputs": [],
   "source": [
    "authors_href = {}"
   ]
  },
  {
   "cell_type": "code",
   "execution_count": 5,
   "metadata": {},
   "outputs": [],
   "source": [
    "for li_mark in soup.table.find_all('li'):\n",
    "    href = li_mark.a.get('href')\n",
    "    author = li_mark.a.text\n",
    "    authors_href[author] = href"
   ]
  },
  {
   "cell_type": "code",
   "execution_count": 6,
   "metadata": {},
   "outputs": [
    {
     "data": {
      "text/plain": [
       "[('Александр Пушкин', 'https://rustih.ru/aleksandr-pushkin/'),\n",
       " ('Михаил Лермонтов', 'https://rustih.ru/mixail-lermontov/'),\n",
       " ('Владимир Маяковский', 'https://rustih.ru/vladimir-mayakovskij/'),\n",
       " ('Иван Крылов', 'https://rustih.ru/ivan-krylov-basni/'),\n",
       " ('Эдуард Асадов', 'https://rustih.ru/eduard-asadov/')]"
      ]
     },
     "execution_count": 6,
     "metadata": {},
     "output_type": "execute_result"
    }
   ],
   "source": [
    "list(authors_href.items())[:5]"
   ]
  },
  {
   "cell_type": "markdown",
   "metadata": {},
   "source": [
    "Get poems of the each author"
   ]
  },
  {
   "cell_type": "code",
   "execution_count": null,
   "metadata": {},
   "outputs": [],
   "source": [
    "for author, href in authors_href.items():\n",
    "    res = requests.get(href).text\n",
    "    soup = BeautifulSoup(res)\n",
    "    a_res = soup.find('div', class_='taxonomy-description').find_all('p')[-1].a\n",
    "    if a_res:\n",
    "        href = a_res.get('href')\n",
    "        res = requests.get(href).text\n",
    "        soup = BeautifulSoup(res)\n",
    "        for poem in soup.find('ul', class_=\"display-posts-listing\").find_all('li'):\n",
    "            # Get the name of a poem from the node like 'Author — The Name Of Poem'\n",
    "            poem_name = poem.a.text.split('—')[-1].strip()\n",
    "            print(poem_name)\n",
    "            \n",
    "            # Get this poem\n",
    "            href = poem.a.get('href')\n",
    "            res = requests.get(href).text\n",
    "            soup = BeautifulSoup(res)\n",
    "            \n",
    "            # Iterate for each paragraph\n",
    "            for paragraph in soup.find('div', class_='entry-content poem-text').children:\n",
    "                if paragraph.name != 'p' \\\n",
    "                and paragraph.name is not None \\\n",
    "                and (re.search(r'(анализ|перевод|_+)', paragraph.text, re.IGNORECASE) or paragraph.attrs):\n",
    "                    break\n",
    "                if paragraph.name is not None:\n",
    "                    print(paragraph.text)\n",
    "            \n",
    "            print('-'*20)"
   ]
  },
  {
   "cell_type": "code",
   "execution_count": 62,
   "metadata": {},
   "outputs": [],
   "source": [
    "res = requests.get('https://rustih.ru/vse-stixi-pushkina-na-odnoj-stranice/').text\n",
    "soup = BeautifulSoup(res)"
   ]
  },
  {
   "cell_type": "code",
   "execution_count": 65,
   "metadata": {},
   "outputs": [
    {
     "data": {
      "text/plain": [
       "'Александр Пушкин — 19 октября'"
      ]
     },
     "execution_count": 65,
     "metadata": {},
     "output_type": "execute_result"
    }
   ],
   "source": [
    "soup.find('ul', class_=\"display-posts-listing\").find_all('li')[0].a.text"
   ]
  },
  {
   "cell_type": "code",
   "execution_count": 10,
   "metadata": {},
   "outputs": [
    {
     "data": {
      "text/plain": [
       "'https://rustih.ru/aleksandr-pushkin-19-oktyabrya/'"
      ]
     },
     "execution_count": 10,
     "metadata": {},
     "output_type": "execute_result"
    }
   ],
   "source": [
    "soup.find('ul', class_=\"display-posts-listing\").find_all('li')[0].a.get('href')"
   ]
  },
  {
   "cell_type": "code",
   "execution_count": 86,
   "metadata": {},
   "outputs": [
    {
     "data": {
      "text/plain": [
       "'\\n Александр Пушкин — 19 октября: Стих\\n'"
      ]
     },
     "execution_count": 86,
     "metadata": {},
     "output_type": "execute_result"
    }
   ],
   "source": [
    "res = requests.get('https://rustih.ru/aleksandr-pushkin-19-oktyabrya/').text\n",
    "soup = BeautifulSoup(res)\n",
    "soup.find('header', class_=\"entry-header\").text"
   ]
  },
  {
   "cell_type": "code",
   "execution_count": null,
   "metadata": {},
   "outputs": [],
   "source": [
    "for desc in soup.find('div', class_='entry-content poem-text').children:\n",
    "    if desc.name != 'p' and desc.name is not None and re.search('анализ', desc.text, re.IGNORECASE):\n",
    "        break\n",
    "    if desc.name is not None and not desc.attrs:\n",
    "        print(desc.text)"
   ]
  },
  {
   "cell_type": "code",
   "execution_count": 68,
   "metadata": {},
   "outputs": [
    {
     "data": {
      "text/plain": [
       "'\\n'"
      ]
     },
     "execution_count": 68,
     "metadata": {},
     "output_type": "execute_result"
    }
   ],
   "source": [
    "list(soup.find('div', class_='entry-content poem-text').children)[-1]"
   ]
  },
  {
   "cell_type": "code",
   "execution_count": 88,
   "metadata": {},
   "outputs": [
    {
     "data": {
      "text/plain": [
       "<p>Роняет лес багряный свой убор,<br/>\n",
       "Сребрит мороз увянувшее поле,<br/>\n",
       "Проглянет день как будто поневоле<br/>\n",
       "И скроется за край окружных гор.<br/>\n",
       "Пылай, камин, в моей пустынной келье;<br/>\n",
       "А ты, вино, осенней стужи друг,<br/>\n",
       "Пролей мне в грудь отрадное похмелье,<br/>\n",
       "Минутное забвенье горьких мук.</p>"
      ]
     },
     "execution_count": 88,
     "metadata": {},
     "output_type": "execute_result"
    }
   ],
   "source": [
    "s = list(soup.find('div', class_='entry-content poem-text').children)[1]\n",
    "s"
   ]
  },
  {
   "cell_type": "code",
   "execution_count": 95,
   "metadata": {},
   "outputs": [
    {
     "name": "stdout",
     "output_type": "stream",
     "text": [
      "Роняет лес багряный свой убор,\n",
      "<br/>\n",
      "\n",
      "Сребрит мороз увянувшее поле,\n",
      "<br/>\n",
      "\n",
      "Проглянет день как будто поневоле\n",
      "<br/>\n",
      "\n",
      "И скроется за край окружных гор.\n",
      "<br/>\n",
      "\n",
      "Пылай, камин, в моей пустынной келье;\n",
      "<br/>\n",
      "\n",
      "А ты, вино, осенней стужи друг,\n",
      "<br/>\n",
      "\n",
      "Пролей мне в грудь отрадное похмелье,\n",
      "<br/>\n",
      "\n",
      "Минутное забвенье горьких мук.\n"
     ]
    }
   ],
   "source": [
    "for r in s.children:\n",
    "    print(r)"
   ]
  },
  {
   "cell_type": "code",
   "execution_count": null,
   "metadata": {},
   "outputs": [],
   "source": []
  }
 ],
 "metadata": {
  "kernelspec": {
   "display_name": "Python 3",
   "language": "python",
   "name": "python3"
  },
  "language_info": {
   "codemirror_mode": {
    "name": "ipython",
    "version": 3
   },
   "file_extension": ".py",
   "mimetype": "text/x-python",
   "name": "python",
   "nbconvert_exporter": "python",
   "pygments_lexer": "ipython3",
   "version": "3.7.6"
  }
 },
 "nbformat": 4,
 "nbformat_minor": 4
}
